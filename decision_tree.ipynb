{
  "nbformat": 4,
  "nbformat_minor": 0,
  "metadata": {
    "colab": {
      "name": "Untitled17.ipynb",
      "provenance": []
    },
    "kernelspec": {
      "name": "python3",
      "display_name": "Python 3"
    }
  },
  "cells": [
    {
      "cell_type": "code",
      "metadata": {
        "id": "q0XBZD8pJiK7",
        "colab_type": "code",
        "colab": {}
      },
      "source": [
        "from decision_tree import decision_tree\n",
        "import numpy as np\n",
        "import pandas as pd"
      ],
      "execution_count": 0,
      "outputs": []
    },
    {
      "cell_type": "code",
      "metadata": {
        "id": "Fs-Wtv6wJqrB",
        "colab_type": "code",
        "colab": {
          "base_uri": "https://localhost:8080/",
          "height": 34
        },
        "outputId": "d9379ddc-c9ea-4226-eae0-cc8483909a0d"
      },
      "source": [
        "file = pd.read_csv(\"cancer.csv\")\n",
        "\n",
        "train = file[500:600]\n",
        "\n",
        "test = file[300:400]\n",
        "train = train.to_numpy()\n",
        "test = test.to_numpy()\n",
        "train = train.T[1:].T\n",
        "tes = test.T[1:].T\n",
        "label = train.T[-1]\n",
        "dt = decision_tree()\n",
        "pre = dt.make_tree(train, tes)\n",
        "print(\"This accuracy is:\", dt.accuracy(pre, tes))"
      ],
      "execution_count": 3,
      "outputs": [
        {
          "output_type": "stream",
          "text": [
            "This accuracy is: 81.0\n"
          ],
          "name": "stdout"
        }
      ]
    }
  ]
}