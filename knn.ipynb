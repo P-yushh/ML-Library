{
  "nbformat": 4,
  "nbformat_minor": 0,
  "metadata": {
    "colab": {
      "name": "Untitled6.ipynb",
      "provenance": []
    },
    "kernelspec": {
      "name": "python3",
      "display_name": "Python 3"
    }
  },
  "cells": [
    {
      "cell_type": "code",
      "metadata": {
        "id": "QgG40qIe_vPL",
        "colab_type": "code",
        "colab": {
          "base_uri": "https://localhost:8080/",
          "height": 34
        },
        "outputId": "f5d68d09-413a-4e75-f75c-1064b72ad355"
      },
      "source": [
        "from knn import KNN\n",
        "import numpy as np\n",
        "import pandas as pd\n",
        "import matplotlib.pyplot as plt\n",
        "train_data=pd.read_csv(\"sample_data/mnist_train_small.csv\", header = None)\n",
        "test_data = pd.read_csv(\"sample_data/mnist_test.csv\", header = None)\n",
        "train_data.head(10)\n",
        "X_train = train_data.values[:1000,1:]\n",
        "Y_train = train_data.values[:1000,0]\n",
        "X_test = test_data.values[:1000,1:]\n",
        "Y_test = test_data.values[:1000,0]\n",
        "knn = KNN()\n",
        "pre = knn.predict(X_test, X_train, Y_train)\n",
        "knn.accuracy(Y_test)"
      ],
      "execution_count": 17,
      "outputs": [
        {
          "output_type": "stream",
          "text": [
            "The accuracy of prediction is :  85.0\n"
          ],
          "name": "stdout"
        }
      ]
    }
  ]
}