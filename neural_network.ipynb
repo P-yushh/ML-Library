{
  "nbformat": 4,
  "nbformat_minor": 0,
  "metadata": {
    "colab": {
      "name": "Untitled16.ipynb",
      "provenance": []
    },
    "kernelspec": {
      "name": "python3",
      "display_name": "Python 3"
    }
  },
  "cells": [
    {
      "cell_type": "code",
      "metadata": {
        "id": "cC3LKrKmHCPv",
        "colab_type": "code",
        "colab": {
          "base_uri": "https://localhost:8080/",
          "height": 34
        },
        "outputId": "88b12b00-9c29-4837-b2db-d4ebee199219"
      },
      "source": [
        "from neuralnetwork import neural_network\n",
        "import numpy as np\n",
        "import pandas as pd\n",
        "import matplotlib.pyplot as plt\n",
        "from sklearn import preprocessing\n",
        "train_data=pd.read_csv(\"sample_data/mnist_train_small.csv\", header = None)\n",
        "test_data = pd.read_csv(\"sample_data/mnist_test.csv\", header = None)\n",
        "train_data.head(10)\n",
        "X_train = train_data.values[:1000,1:]\n",
        "Y_train = train_data.values[:1000,0]\n",
        "X_test = test_data.values[:1000,1:]\n",
        "Y_test = test_data.values[:1000,0]\n",
        "o_node = np.unique([Y_train])\n",
        "nn = neural_network(learning_rate = 0.000001, output_nodes = len(o_node))\n",
        "nn.train(X_train, Y_train)\n",
        "pre = nn.predict(X_test)\n",
        "acc = nn.accuracy(pre, Y_test)\n",
        "print(\"Accuracy is: \", acc)"
      ],
      "execution_count": 1,
      "outputs": [
        {
          "output_type": "stream",
          "text": [
            "Accuracy is:  10.7\n"
          ],
          "name": "stdout"
        }
      ]
    }
  ]
}