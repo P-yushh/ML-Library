{
  "nbformat": 4,
  "nbformat_minor": 0,
  "metadata": {
    "kernelspec": {
      "display_name": "Python 3",
      "language": "python",
      "name": "python3"
    },
    "language_info": {
      "codemirror_mode": {
        "name": "ipython",
        "version": 3
      },
      "file_extension": ".py",
      "mimetype": "text/x-python",
      "name": "python",
      "nbconvert_exporter": "python",
      "pygments_lexer": "ipython3",
      "version": "3.7.4"
    },
    "colab": {
      "name": "Logistic Regression.ipynb",
      "provenance": [],
      "collapsed_sections": []
    }
  },
  "cells": [
    {
      "cell_type": "code",
      "metadata": {
        "id": "qJP-SdAfZWAr",
        "colab_type": "code",
        "colab": {}
      },
      "source": [
        "import numpy as np\n",
        "import matplotlib.pyplot as plt\n",
        "import pandas as pd\n",
        "\n",
        "class logistic_reg():\n",
        "    \n",
        "    def __init__(self, learning_rate = 0.00001, no_of_iteration = 700, concerned_class = 0):\n",
        "        \n",
        "        # Initializing Values!\n",
        "        \n",
        "        self.learning_rate = learning_rate\n",
        "        self.no_of_iteration = no_of_iteration\n",
        "        self.concerned_class = concerned_class\n",
        "        self.no_of_example = 0\n",
        "        self.cst = 0\n",
        "    \n",
        "    def sigmoid(self, z):\n",
        "        return 1/(1+np.exp(-z))\n",
        "        \n",
        "    \n",
        "    def cost_func(self, y_pred, Y_train):\n",
        "     \n",
        "        # Using 'One Vs. All method'!\n",
        "        # Labelling the 'concerned_class' target values as '1' and all other classes as '0'.\n",
        "\n",
        "        Y = [1 if Y_train[i] == self.concerned_class else 0 for i in range(self.no_of_example)]\n",
        "        Y = np.array(Y)\n",
        "        for i in range(len(y_pred)):\n",
        "          if y_pred[i]==1:\n",
        "            y_pred[i] -= 1e-4   \n",
        "        cost = ( -1*sum( Y*np.log(y_pred) + (1-Y)*np.log(1-y_pred) ) )/self.no_of_example\n",
        "        return cost\n",
        "    \n",
        "    def train(self, X_train, Y_train):\n",
        "        self.no_of_example, no_of_feature = X_train.shape\n",
        "        \n",
        "        # Initializing constant and weight to be passed as a parameter to 'sigmoid()'!\n",
        "        \n",
        "        self.const = 0\n",
        "        self.weight = [0 for i in range(no_of_feature)]\n",
        "        Y = [1 if Y_train[i] == self.concerned_class else 0 for i in range(self.no_of_example)]\n",
        "        Y = np.array(Y)\n",
        "        \n",
        "        # Making cst's dimension equal to the number of iterations!\n",
        "        \n",
        "        self.cst = np.zeros(self.no_of_iteration)\n",
        "        \n",
        "        # Applying Gradient Descent.\n",
        "        \n",
        "        for i in range(self.no_of_iteration):        \n",
        "            z = self.const + np.dot(X_train, self.weight)\n",
        "            y_pred = self.sigmoid(z)\n",
        "            \n",
        "            # Calculating gradients with respect to constant and weights.\n",
        "            \n",
        "            dc = sum(y_pred - Y)\n",
        "            dw = np.dot(X_train.T, (y_pred - Y))\n",
        "            \n",
        "            # Updating parameters.\n",
        "            \n",
        "            self.const -= (self.learning_rate / self.no_of_example)*dc\n",
        "            self.weight -= (self.learning_rate / self.no_of_example)*dw   \n",
        "            self.cst[i] = self.cost_func(y_pred, Y_train)    \n",
        "            \n",
        "    def predict(self, X_test, Y_test):\n",
        "        \n",
        "        # This function predicts the output corresponding to the given test data.\n",
        "        \n",
        "        sz = len(Y_test)\n",
        "        z = self.const + np.dot(X_test, self.weight)\n",
        "        pred = self.sigmoid(z)\n",
        "        Y = [1 if Y_test[i] == self.concerned_class else 0 for i in range(sz)]\n",
        "        Y = np.array(Y)\n",
        "        \n",
        "        # Predict the class as positive class if 'pred' gives a value greater than '0.5',\n",
        "        # else predict the class as negative class!\n",
        "        \n",
        "        Y_pred = [1 if i >= 0.5 else 0 for i in pred]\n",
        "        Y_pred = np.array(Y_pred)\n",
        "        return Y_pred\n",
        "    \n",
        "    def accuracy(self, X_test, Y_test):\n",
        "        \n",
        "        # This function calculates the accuracy of predicted values.\n",
        "        \n",
        "        sz = len(Y_test)\n",
        "        sum = 0\n",
        "        Y_pred = self.predict(X_test, Y_test)\n",
        "        Y = [1 if Y_test[i] == self.concerned_class else 0  for i in range(sz)]\n",
        "        Y = np.array(Y)\n",
        "        for i in range(sz):\n",
        "            if Y[i] == Y_pred[i]:\n",
        "                sum += 1\n",
        "        return print(\"Accuracy of prediction for ' Class = \", self.concerned_class,\n",
        "                     \"' is :\", (sum/sz)*100, \"%\")\n",
        "        \n",
        "    def learning_curve(self):\n",
        "        \n",
        "        # This function plots a learning curve viz. plot of 'Number of iterations' Vs. 'Cross \n",
        "        # Entropy Loss'.\n",
        "    \n",
        "        iter = [(i + 1) for i in range(self.no_of_iteration)]\n",
        "        iter = np.array(iter)\n",
        "        plt.plot(iter, self.cst, label = self.concerned_class)\n",
        "        plt.title('Learning Curve')\n",
        "        plt.xlabel('Number of iterations')\n",
        "        plt.ylabel('Cost Entropy Loss')\n",
        "        plt.legend(title = 'Classes', fancybox = True, shadow = True, ncol = 2, borderpad = 1)\n",
        "        plt.show\n",
        "        \n",
        "            \n",
        "    "
      ],
      "execution_count": 0,
      "outputs": []
    },
    {
      "cell_type": "code",
      "metadata": {
        "id": "8p3MqETRZWA6",
        "colab_type": "code",
        "colab": {
          "base_uri": "https://localhost:8080/",
          "height": 463
        },
        "outputId": "411f1eb4-e28b-4a1c-e8e7-95267b39548c"
      },
      "source": [
        "training_data = pd.read_csv(\"sample_data/mnist_train_small.csv\")\n",
        "testing_data = pd.read_csv(\"sample_data/mnist_test.csv\")\n",
        "testing_data.head()\n",
        "xtrain = training_data.drop('6', axis = 1)\n",
        "ytrain = training_data['6'].values\n",
        "xtest = testing_data.drop('7', axis = 1)\n",
        "ytest = testing_data['7'].values\n",
        "for i in range(10):\n",
        "  reg = logistic_reg(concerned_class = i)\n",
        "  reg.train(xtrain, ytrain)\n",
        "  reg.accuracy(xtest, ytest)\n",
        "  reg.learning_curve()"
      ],
      "execution_count": 120,
      "outputs": [
        {
          "output_type": "stream",
          "text": [
            "Accuracy of prediction for ' Class =  0 ' is : 99.20992099209921 %\n",
            "Accuracy of prediction for ' Class =  1 ' is : 99.28992899289929 %\n",
            "Accuracy of prediction for ' Class =  2 ' is : 97.999799979998 %\n",
            "Accuracy of prediction for ' Class =  3 ' is : 97.44974497449745 %\n",
            "Accuracy of prediction for ' Class =  4 ' is : 98.02980298029803 %\n",
            "Accuracy of prediction for ' Class =  5 ' is : 97.2997299729973 %\n",
            "Accuracy of prediction for ' Class =  6 ' is : 98.45984598459846 %\n",
            "Accuracy of prediction for ' Class =  7 ' is : 98.44984498449844 %\n",
            "Accuracy of prediction for ' Class =  8 ' is : 94.31943194319432 %\n",
            "Accuracy of prediction for ' Class =  9 ' is : 96.06960696069608 %\n"
          ],
          "name": "stdout"
        },
        {
          "output_type": "display_data",
          "data": {
            "image/png": "[encoded data removed]",
            "text/plain": [
              "<Figure size 432x288 with 1 Axes>"
            ]
          },
          "metadata": {
            "tags": []
          }
        }
      ]
    }
  ]
}